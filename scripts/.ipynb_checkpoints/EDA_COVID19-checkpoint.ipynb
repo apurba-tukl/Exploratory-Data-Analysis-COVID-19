{
 "cells": [
  {
   "cell_type": "markdown",
   "metadata": {},
   "source": [
    "## This is a basic Exploratory Data Analysis of the COVID-19 dataset to understand and visualise important insights from the data graphically. This helps us to track the present situation and helps in determining the effect of relevant adopted measures on the outbreak of SARS-CoV-2 over time."
   ]
  },
  {
   "cell_type": "markdown",
   "metadata": {},
   "source": [
    "![alt text](https://kongres-magazine.eu/wp-content/uploads/2020/02/icca_covid.png)"
   ]
  },
  {
   "cell_type": "markdown",
   "metadata": {},
   "source": [
    "![alt text](../images/Update_on_Corona_outbreak.png)"
   ]
  },
  {
   "cell_type": "code",
   "execution_count": 1,
   "metadata": {},
   "outputs": [],
   "source": [
    "import kaggle\n",
    "kaggle.api.authenticate()\n",
    "\n",
    "#import statistical pacakges\n",
    "import pandas as pd\n",
    "import numpy as np\n",
    "import scipy.stats as stats\n",
    "\n",
    "%matplotlib inline\n",
    "#import visualization pacakge\n",
    "import matplotlib\n",
    "import matplotlib.pyplot as plt\n",
    "import plotly.graph_objects as go\n",
    "import plotly.express as px\n",
    "import folium \n",
    "from folium import plugins\n",
    "\n",
    "# Manipulating the default plot size\n",
    "plt.rcParams['figure.figsize'] = 20, 8\n",
    "\n",
    "#setting the style format\n",
    "plt.style.use('fivethirtyeight')\n",
    "\n",
    "# Disable warnings \n",
    "import warnings\n",
    "warnings.filterwarnings('ignore')"
   ]
  },
  {
   "cell_type": "code",
   "execution_count": 2,
   "metadata": {},
   "outputs": [
    {
     "name": "stdout",
     "output_type": "stream",
     "text": [
      "Downloading novel-corona-virus-2019-dataset.zip to ../data\n",
      "100%|████████████████████████████████████████| 661k/661k [00:00<00:00, 5.25MB/s]\n",
      "100%|████████████████████████████████████████| 661k/661k [00:00<00:00, 5.23MB/s]\n"
     ]
    }
   ],
   "source": [
    "#download updated files from Kaggle using API\n",
    "!kaggle datasets download -d sudalairajkumar/novel-corona-virus-2019-dataset -p ../data/ --unzip"
   ]
  },
  {
   "cell_type": "code",
   "execution_count": 3,
   "metadata": {},
   "outputs": [
    {
     "name": "stdout",
     "output_type": "stream",
     "text": [
      "Downloading covid19-in-india.zip to ../data/india\r\n",
      "\r",
      "  0%|                                               | 0.00/37.7k [00:00<?, ?B/s]\r\n",
      "\r",
      "100%|██████████████████████████████████████| 37.7k/37.7k [00:00<00:00, 3.77MB/s]\r\n"
     ]
    }
   ],
   "source": [
    "#download updated files from Kaggle using API\n",
    "!kaggle datasets download -d sudalairajkumar/covid19-in-india -p ../data/india/ --unzip"
   ]
  },
  {
   "cell_type": "code",
   "execution_count": 4,
   "metadata": {},
   "outputs": [],
   "source": [
    "#Consume the overall status data of COVID-19\n",
    "corona_19_data = pd.read_csv(\"../data/covid_19_data.csv\")\n",
    "\n",
    "COVID19_line_list_data = pd.read_csv(\"../data/COVID19_line_list_data.csv\")\n",
    "COVID19_open_line_list_data = pd.read_csv(\"../data/COVID19_open_line_list.csv\")\n",
    "\n",
    "#Cosume the data specifically defining the confirmed cases\n",
    "corona_19_confirmed_data = pd.read_csv(\"../data/time_series_covid_19_confirmed.csv\")\n",
    "\n",
    "#Cosume the data specifically defining the death cases\n",
    "corona_19_deaths_data = pd.read_csv(\"../data/time_series_covid_19_deaths.csv\")\n",
    "\n",
    "#Cosume the data specifically defining the recovered cases\n",
    "corona_19_recovered_data = pd.read_csv(\"../data/time_series_covid_19_recovered.csv\")"
   ]
  },
  {
   "cell_type": "code",
   "execution_count": 5,
   "metadata": {},
   "outputs": [],
   "source": [
    "#Cleaning the by removing NA value in case of any of the mandatory column values if any\n",
    "corona_19_data.dropna(inplace=True, subset =['Confirmed', 'Deaths', 'Recovered', 'ObservationDate'])\n",
    "\n",
    "#sorting the values interms of dates in ascending order\n",
    "corona_19_data = corona_19_data.sort_values('ObservationDate')"
   ]
  },
  {
   "cell_type": "code",
   "execution_count": 6,
   "metadata": {},
   "outputs": [],
   "source": [
    "#calculating the sum over the metrices based on individual dates\n",
    "corona_19_data_grouped_sum = corona_19_data.groupby('ObservationDate').sum()\n",
    "corona_19_data_grouped_sum.drop('SNo', axis=1, inplace=True)"
   ]
  },
  {
   "cell_type": "code",
   "execution_count": null,
   "metadata": {},
   "outputs": [],
   "source": [
    "#plot the cumulative distribution of the metrices in normal scale\n",
    "ax = corona_19_data_grouped_sum.plot(kind='bar',width=0.8,fontsize=10,title='Cumulative Distribution of SARS-CoV-2', figsize=(20,8))\n",
    "ax.set_xlabel(\"Date\", fontsize=20)\n",
    "ax.set_ylabel(\"Statistics\", fontsize=20)\n",
    "fig= ax.get_figure()\n",
    "fig.tight_layout()\n",
    "fig.savefig(\"../visualizations/COVID-19_status.png\")\n",
    "\n",
    "#using log scaling to intensify the values at the lowest points\n",
    "ax = corona_19_data_grouped_sum.plot(kind='bar', fontsize=10, width=0.8,title='Cumulative Distribution of SARS-CoV-2', logy=True, figsize=(20,8))\n",
    "ax.set_xlabel(\"Date\", fontsize=20)\n",
    "ax.set_ylabel(\"Statistics (Log scaled)\", fontsize=20)\n",
    "ax.set_yscale('log', basey=2)\n",
    "ax.get_yaxis().set_major_formatter(matplotlib.ticker.ScalarFormatter())\n",
    "\n",
    "#saving the visualization\n",
    "fig= ax.get_figure()\n",
    "fig.tight_layout()\n",
    "fig.savefig(\"../visualizations/COVID-19_status_logged.png\")"
   ]
  },
  {
   "cell_type": "code",
   "execution_count": null,
   "metadata": {},
   "outputs": [],
   "source": [
    "#plot the distribution of the metrices in terms of area \n",
    "corona_19_data_grouped_sum_area = corona_19_data_grouped_sum.divide(corona_19_data_grouped_sum.sum(axis=1), axis=0)\n",
    "ax = corona_19_data_grouped_sum_area.plot(kind='area',title = \"Percentage Distribution of SARS-CoV-2\", \n",
    "                                          fontsize=10, stacked=False, figsize=(20,8))\n",
    "plt.xticks(range(len(corona_19_data_grouped_sum_area.index)), corona_19_data_grouped_sum_area.index, rotation=90)\n",
    "ax.set_ylabel(\"Statistics in terms of total area\", fontsize=20)\n",
    "ax.set_xlabel(\"Date\", fontsize=20)\n",
    "ax.legend(loc=(2))\n",
    "\n",
    "#saving the visualization\n",
    "fig= ax.get_figure()\n",
    "fig.tight_layout()\n",
    "fig.savefig(\"../visualizations/COVID-19_status_percentage.png\")"
   ]
  },
  {
   "cell_type": "code",
   "execution_count": null,
   "metadata": {},
   "outputs": [],
   "source": [
    "#plot the distribution of the metrices in terms of area \n",
    "corona_19_data_grouped_sum_area = corona_19_data_grouped_sum.divide(corona_19_data_grouped_sum.sum(axis=1), axis=0)\n",
    "ax = corona_19_data_grouped_sum_area.plot(kind='area',fontsize=10, title = \"Percentage Distribution of SARS-CoV-2 with Stacking\", figsize=(20,8))\n",
    "plt.xticks(range(len(corona_19_data_grouped_sum_area.index)), corona_19_data_grouped_sum_area.index, rotation=90)\n",
    "ax.set_ylabel(\"Statistics in terms of total area\", fontsize=20)\n",
    "ax.set_xlabel(\"Date\", fontsize=20)\n",
    "ax.legend(loc=(2))\n",
    "\n",
    "#saving the visualization\n",
    "fig= ax.get_figure()\n",
    "fig.tight_layout()\n",
    "fig.savefig(\"../visualizations/COVID-19_status_percentage_stacked.png\")"
   ]
  },
  {
   "cell_type": "code",
   "execution_count": null,
   "metadata": {},
   "outputs": [],
   "source": [
    "corona_19_data_selected_countries_all = corona_19_data.groupby([\"Country/Region\", \"ObservationDate\"]).sum().reset_index()\n",
    "corona_19_data_selected_countries_all = corona_19_data_selected_countries_all.groupby(\"Country/Region\").max()\n",
    "corona_19_data_selected_countries_all = corona_19_data_selected_countries_all.sort_values(\"Confirmed\", ascending=False)\n",
    "corona_19_data_selected_countries_all.drop('SNo',axis=1, inplace=True)"
   ]
  },
  {
   "cell_type": "code",
   "execution_count": null,
   "metadata": {},
   "outputs": [],
   "source": [
    "ax = corona_19_data_selected_countries_all.head(20).plot(kind='bar', title= \"Statistics of top 20 affected countries till %s\" %max(corona_19_data_selected_countries_all.ObservationDate), \n",
    "                                            width=0.9, fontsize=20, figsize=(20,8))\n",
    "ax.set_ylabel('Statistics', fontsize=20)\n",
    "\n",
    "#chaning the y scaling in log for better visualization of small values\n",
    "ax.set_yscale('log', basey=2)\n",
    "ax.get_yaxis().set_major_formatter(matplotlib.ticker.ScalarFormatter())\n",
    "ax.set_xlabel(\"Country/Region\", fontsize=20)\n",
    "\n",
    "#saving the visualization\n",
    "fig = ax.get_figure()\n",
    "fig.tight_layout()\n",
    "fig.savefig(\"../visualizations/COVID-19_country_status.png\")"
   ]
  },
  {
   "cell_type": "code",
   "execution_count": null,
   "metadata": {},
   "outputs": [],
   "source": [
    "#calculting death rates and recovery rate of all the countries and the overall data\n",
    "corona_19_data_rates_country_wise = pd.DataFrame()\n",
    "corona_19_data_rates_country_wise['deathRate'] = (corona_19_data_selected_countries_all['Deaths']/\n",
    "                                                      corona_19_data_selected_countries_all['Confirmed'])*100\n",
    "corona_19_data_rates_country_wise['recoveryRate'] = (corona_19_data_selected_countries_all['Recovered']/\n",
    "                                                         corona_19_data_selected_countries_all['Confirmed'])*100\n",
    "\n",
    "corona_19_data_rates_country_wise.dropna(inplace=True)\n",
    "\n",
    "#calculating percentage rate of change of comfirmed, deaths and recoveries\n",
    "\n",
    "corona_19_data_rates= pd.DataFrame()\n",
    "corona_19_data_rates['rate_of_change_infections'] = corona_19_data_grouped_sum['Confirmed'].diff().pct_change()*100\n",
    "corona_19_data_rates['rate_of_change_recoveries'] = corona_19_data_grouped_sum['Recovered'].diff().pct_change()*100\n",
    "corona_19_data_rates['rate_of_change_deaths'] = corona_19_data_grouped_sum['Deaths'].diff().pct_change()*100\n",
    "\n",
    "corona_19_data_rates.dropna(inplace=True)"
   ]
  },
  {
   "cell_type": "code",
   "execution_count": null,
   "metadata": {},
   "outputs": [],
   "source": [
    "ax = corona_19_data_rates_country_wise.head(20).plot(kind='bar', title= \"Statistics of rates of top 20 affected countries till %s\" %max(corona_19_data_selected_countries_all.ObservationDate), \n",
    "                                            edgecolor='black', width=0.9,fontsize=20, figsize=(20,8))\n",
    "ax.set_ylabel('Statistics of rates per total confirmed cases', fontsize=20)\n",
    "ax.set_xlabel(\"Country/Region\", fontsize=20)\n",
    "\n",
    "#chaning the y scaling in log for better visualization of small values\n",
    "ax.set_yscale('log', basey=2)\n",
    "ax.get_yaxis().set_major_formatter(matplotlib.ticker.ScalarFormatter())\n",
    "\n",
    "#saving the visualization\n",
    "fig = ax.get_figure()\n",
    "fig.tight_layout()\n",
    "fig.savefig(\"../visualizations/COVID-19_country_status_of_rates.png\")"
   ]
  },
  {
   "cell_type": "code",
   "execution_count": null,
   "metadata": {},
   "outputs": [],
   "source": [
    "ax = corona_19_data_selected_countries_all.head(20).plot(kind='bar', edgecolor='black',\n",
    "                                            width=0.9,fontsize=20, figsize=(20,8))\n",
    "ax.set_ylabel('Statistics', fontsize=20)\n",
    "ax.set_xlabel('Country/Region', fontsize=20)\n",
    "ax.set_title(\"Statistics of death and recovery rates of top 20 affected countries till %s\" %max(corona_19_data_selected_countries_all.ObservationDate), fontsize=20)\n",
    "\n",
    "#chaning the y scaling in log for better visualization of small values\n",
    "ax.set_yscale('log', basey=2)\n",
    "ax.get_yaxis().set_major_formatter(matplotlib.ticker.ScalarFormatter())\n",
    "\n",
    "#saving the visualization\n",
    "fig = ax.get_figure()\n",
    "fig.tight_layout()\n",
    "fig.savefig(\"../visualizations/COVID-19_country_status.png\")"
   ]
  },
  {
   "cell_type": "code",
   "execution_count": null,
   "metadata": {},
   "outputs": [],
   "source": [
    "ax = corona_19_data_rates[['rate_of_change_infections','rate_of_change_recoveries']].plot(kind='bar', \n",
    "                               width=0.8,edgecolor='black', fontsize=10, stacked=True, figsize=(20,8))\n",
    "ax.set_ylabel('Statistics in percentage change', fontsize=20)\n",
    "ax.set_xlabel('ObservationDate', fontsize=20)\n",
    "ax.set_title(\"Statistics of percentage change in infected and recovery till %s\" %max(corona_19_data_rates.index), fontsize=20)\n",
    "\n",
    "#chaning the y scaling in log for better visualization of small values\n",
    "ax.set_yscale('symlog')\n",
    "ax.get_yaxis().set_major_formatter(matplotlib.ticker.ScalarFormatter())\n",
    "\n",
    "#saving the visualization\n",
    "fig = ax.get_figure()\n",
    "fig.tight_layout()\n",
    "fig.savefig(\"../visualizations/recoveryVSinfection.png\")"
   ]
  },
  {
   "cell_type": "markdown",
   "metadata": {},
   "source": [
    "### This is an add-on function takes the country name as argument and produces the respective statistics like Confirmed, death, recovered case of COVID-19 till the current date"
   ]
  },
  {
   "cell_type": "code",
   "execution_count": null,
   "metadata": {},
   "outputs": [],
   "source": [
    "def country_stat(country_name):\n",
    "    #filtering out the data for the Mainland China\n",
    "    corona_19_data_country_specific = corona_19_data[corona_19_data[\"Country/Region\"]==country_name]\n",
    "    \n",
    "    #calculating the sum over the metrices based on individual dates\n",
    "    corona_19_data_country_specific = corona_19_data_country_specific.groupby('ObservationDate').sum()\n",
    "    corona_19_data_country_specific.drop('SNo', axis=1, inplace=True)\n",
    "    \n",
    "    #plot the cumulative distribution of the metrices in normal scale\n",
    "    ax = corona_19_data_country_specific.plot(kind='bar',width=0.8, fontsize=20, figsize=(20,8))\n",
    "    ax.set_ylabel(\"Statistics\",fontsize=20)\n",
    "    ax.set_xlabel(\"Date\", fontsize=20)\n",
    "    ax.set_title(\"Statistics of %s\" %country_name, fontsize=20)\n",
    "    fig = ax.get_figure()\n",
    "    fig.tight_layout()\n",
    "    fig.savefig(\"../visualizations/statistics_of_%s.png\" %country_name)\n",
    "    \n",
    "    '''\n",
    "    #plot the cumulative distribution of the metrices in log scale\n",
    "    ax = corona_19_data_country_specific.plot(kind='bar',width=0.8, fontsize=20, figsize=(20,8))\n",
    "    ax.set_yscale('log', basey=2)\n",
    "    ax.set_ylabel(\"Statistics (Log scaled)\", fontsize=20)\n",
    "    ax.set_xlabel(\"Date\", fontsize=20)\n",
    "    ax.set_title(\"Statistics of %s\" %country_name, fontsize=20)\n",
    "    ax.get_yaxis().set_major_formatter(matplotlib.ticker.ScalarFormatter())\n",
    "    '''\n",
    "    # Rise of COVID-19 cases in India with an interactive chart\n",
    "    fig = go.Figure()\n",
    "    fig.add_trace(go.Scatter(x=corona_19_data_country_specific.reset_index()['ObservationDate'], y = corona_19_data_country_specific['Confirmed'], mode='lines+markers',name='Confirmed'))\n",
    "    fig.add_trace(go.Scatter(x=corona_19_data_country_specific.reset_index()['ObservationDate'], y = corona_19_data_country_specific['Recovered'], mode='lines+markers',name='Recovered'))\n",
    "    fig.add_trace(go.Scatter(x=corona_19_data_country_specific.reset_index()['ObservationDate'], y = corona_19_data_country_specific['Deaths'], mode='lines+markers',name='Deaths'))\n",
    "    fig.update_layout(title_text='Trend of Coronavirus Cases in %s (Cumulative cases)' %country_name,plot_bgcolor='rgb(230, 230, 230)')\n",
    "    fig.write_html(\"../visualizations/%s_statistics_COVID_19.html\" %country_name)\n",
    "    fig.show()\n",
    "    \n",
    "    \n",
    "    #plot the distribution of the metrices in terms of area \n",
    "    corona_19_data_country_specific_nonstack = corona_19_data_country_specific.divide(corona_19_data_country_specific.sum(axis=1), axis=0)\n",
    "    ax = corona_19_data_country_specific_nonstack.plot(kind='area',fontsize=20, stacked=False, figsize=(20,8))\n",
    "    plt.xticks(range(len(corona_19_data_country_specific_nonstack.index)), corona_19_data_country_specific_nonstack.index, rotation=90)\n",
    "    ax.set_ylabel(\"Statistics in terms of total area\", fontsize=20)\n",
    "    ax.set_xlabel(\"Date\", fontsize=20)\n",
    "    ax.set_title(\"Percentage Distribution of SARS-CoV-2 wo Stacking for %s\" %country_name,fontsize=20)\n",
    "    #ax.set_xlim(0, 60)\n",
    "    ax.legend(loc=(2))\n",
    "    \n",
    "    #plot the distribution of the metrices in terms of area \n",
    "    corona_19_data_country_specific_stack = corona_19_data_country_specific.divide(corona_19_data_country_specific.sum(axis=1), axis=0)\n",
    "    ax = corona_19_data_country_specific_stack.plot(kind='area',fontsize=20, figsize=(20,8))\n",
    "    plt.xticks(range(len(corona_19_data_country_specific_stack.index)), corona_19_data_country_specific_stack.index, rotation=90)\n",
    "    ax.set_ylabel(\"Statistics in terms of total area\", fontsize=20)\n",
    "    ax.set_xlabel(\"Date\", fontsize=20)\n",
    "    ax.set_title(\"Percentage Distribution of SARS-CoV-2 with Stacking for %s\" %country_name,fontsize=20)\n",
    "    ax.legend(loc=(2))\n",
    "    \n",
    "    return corona_19_data_country_specific\n"
   ]
  },
  {
   "cell_type": "markdown",
   "metadata": {},
   "source": [
    "# Analysing the present condition of a specific country"
   ]
  },
  {
   "cell_type": "code",
   "execution_count": null,
   "metadata": {
    "scrolled": false
   },
   "outputs": [],
   "source": [
    "#calling the \"country_stat\" function the with the country name as argument\n",
    "df_country = country_stat(\"India\").reset_index()"
   ]
  },
  {
   "cell_type": "markdown",
   "metadata": {},
   "source": [
    "## Geographically represent values of spread of COVID-19 in India"
   ]
  },
  {
   "cell_type": "code",
   "execution_count": null,
   "metadata": {},
   "outputs": [],
   "source": [
    "# Coordinates of India States and Union Territories\n",
    "India_coord = pd.read_csv('../data/india/Indian Coordinates.csv')\n",
    "India_coord.drop(['Unnamed: 3'],axis=1, inplace=True)\n",
    "India_coord = India_coord.rename(columns= {'Name of State / UT':'State/UnionTerritory'})\n",
    "India_coord['State/UnionTerritory'] = India_coord['State/UnionTerritory'].str.strip()\n",
    "India_coord['State/UnionTerritory'].replace(\"Andaman And Nicobar\", \"Andaman and Nicobar Islands\", inplace=True)\n",
    "\n",
    "df_India = pd.read_csv('../data/india/covid_19_india.csv')\n",
    "df_state = df_India.groupby('State/UnionTerritory').max()[['Cured', 'Deaths', 'Confirmed']].reset_index()\n",
    "df_state['State/UnionTerritory'] = df_state['State/UnionTerritory'].str.strip()"
   ]
  },
  {
   "cell_type": "code",
   "execution_count": null,
   "metadata": {
    "scrolled": true
   },
   "outputs": [],
   "source": [
    "#missing states from the dataframe\n",
    "set(India_coord['State/UnionTerritory'])-set(df_state['State/UnionTerritory'])"
   ]
  },
  {
   "cell_type": "code",
   "execution_count": null,
   "metadata": {
    "scrolled": false
   },
   "outputs": [],
   "source": [
    "#df = pd.DataFrame()\n",
    "#df['Cured'] = pd.Series(df_state.Cured.sum())\n",
    "#df['Deaths'] = pd.Series(df_state.Deaths.sum())\n",
    "#df['Confirmed'] = pd.Series(df_state.Confirmed.sum())\n",
    "\n",
    "#ax = df.plot(kind=\"bar\", width=0.3, edgecolor='black', title= \"Current Status of India\", figsize=(10,8))\n",
    "#ax.set_xticks([])\n",
    "#ax.set_ylabel(\"Statistics\")\n",
    "#ax.set_yscale('log', basey=2)\n",
    "#ax.get_yaxis().set_major_formatter(matplotlib.ticker.ScalarFormatter())\n",
    "#for p in ax.patches:\n",
    "#    ax.annotate(str(p.get_height()), (p.get_x() * 0.8, p.get_height() * 1.1))      "
   ]
  },
  {
   "cell_type": "code",
   "execution_count": null,
   "metadata": {},
   "outputs": [],
   "source": [
    "#highlighting the dataframe\n",
    "df_state.style.background_gradient(cmap='Reds')"
   ]
  },
  {
   "cell_type": "markdown",
   "metadata": {},
   "source": [
    "## Geographical represention of state wise COVID-19 statics of India"
   ]
  },
  {
   "cell_type": "code",
   "execution_count": null,
   "metadata": {},
   "outputs": [],
   "source": [
    "df_full = pd.merge(India_coord,df_state,on='State/UnionTerritory')\n",
    "df_full = df_full[df_full.Confirmed!=0]\n",
    "map = folium.Map(titles=\"Values\", location=[20, 70], zoom_start=4,tiles='Stamenterrain')\n",
    "\n",
    "for lat, lon, value, name in zip(df_full['Latitude'], df_full['Longitude'], df_full['Confirmed'], df_full['State/UnionTerritory']):\n",
    "    folium.CircleMarker([lat, lon], radius=value*0.2, popup = ('<strong>State</strong>: ' + str(name).capitalize() + '<br>''<strong>Total Cases</strong>: ' + str(value) + '<br>'),color='red',fill_color='red',fill_opacity=0.4).add_to(map)\n",
    "\n",
    "print(\"----------------------The Statsitics of Confirmed cases till date------------------\")    \n",
    "\n",
    "map.save(outfile= \"../visualizations/Confirmed_cases_India.html\")\n",
    "map "
   ]
  },
  {
   "cell_type": "code",
   "execution_count": null,
   "metadata": {},
   "outputs": [],
   "source": [
    "df_full = pd.merge(India_coord,df_state,on='State/UnionTerritory')\n",
    "df_full = df_full[df_full.Deaths!=0]\n",
    "map = folium.Map(titles=\"Values\", location=[20, 70], zoom_start=4,tiles='Stamenterrain')\n",
    "\n",
    "for lat, lon, value, name in zip(df_full['Latitude'], df_full['Longitude'], df_full['Deaths'], df_full['State/UnionTerritory']):\n",
    "    folium.CircleMarker([lat, lon], radius=value*3, popup = ('<strong>State</strong>: ' + str(name).capitalize() + '<br>''<strong>Total Cases</strong>: ' + str(value) + '<br>'),color='red',fill_color='red',fill_opacity=0.4).add_to(map)\n",
    "\n",
    "print(\"----------------------The Statsitics of Confirmed cases till date------------------\")    \n",
    "\n",
    "map.save(outfile= \"../visualizations/Death_cases_India.html\")\n",
    "map    "
   ]
  }
 ],
 "metadata": {
  "kernelspec": {
   "display_name": "Python 3",
   "language": "python",
   "name": "python3"
  },
  "language_info": {
   "codemirror_mode": {
    "name": "ipython",
    "version": 3
   },
   "file_extension": ".py",
   "mimetype": "text/x-python",
   "name": "python",
   "nbconvert_exporter": "python",
   "pygments_lexer": "ipython3",
   "version": "3.6.10"
  }
 },
 "nbformat": 4,
 "nbformat_minor": 2
}
